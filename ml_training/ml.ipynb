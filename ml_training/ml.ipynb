{
 "cells": [
  {
   "cell_type": "markdown",
   "id": "1a0e5185",
   "metadata": {},
   "source": [
    "Part 1: Dataset Loading & Exploration"
   ]
  },
  {
   "cell_type": "code",
   "execution_count": 1,
   "id": "b876f10e",
   "metadata": {},
   "outputs": [
    {
     "name": "stdout",
     "output_type": "stream",
     "text": [
      "Dataset shape: (2000, 25)\n",
      "user_id                              object\n",
      "age                                   int64\n",
      "gender                               object\n",
      "daily_screen_time_hours             float64\n",
      "phone_usage_hours                   float64\n",
      "laptop_usage_hours                  float64\n",
      "tablet_usage_hours                  float64\n",
      "tv_usage_hours                      float64\n",
      "social_media_hours                  float64\n",
      "work_related_hours                  float64\n",
      "entertainment_hours                 float64\n",
      "gaming_hours                        float64\n",
      "sleep_duration_hours                float64\n",
      "sleep_quality                         int64\n",
      "mood_rating                           int64\n",
      "stress_level                          int64\n",
      "physical_activity_hours_per_week    float64\n",
      "location_type                        object\n",
      "mental_health_score                   int64\n",
      "uses_wellness_apps                    int64\n",
      "eats_healthy                          int64\n",
      "caffeine_intake_mg_per_day          float64\n",
      "weekly_anxiety_score                  int64\n",
      "weekly_depression_score               int64\n",
      "mindfulness_minutes_per_day         float64\n",
      "dtype: object\n",
      "  user_id  age  gender  daily_screen_time_hours  phone_usage_hours  \\\n",
      "0  user_1   51  Female                      4.8                3.4   \n",
      "1  user_2   64    Male                      3.9                3.5   \n",
      "2  user_3   41   Other                     10.5                2.1   \n",
      "3  user_4   27   Other                      8.8                0.0   \n",
      "4  user_5   55    Male                      5.9                1.7   \n",
      "\n",
      "   laptop_usage_hours  tablet_usage_hours  tv_usage_hours  social_media_hours  \\\n",
      "0                 1.3                 1.6             1.6                 4.1   \n",
      "1                 1.8                 0.9             2.0                 2.7   \n",
      "2                 2.6                 0.7             2.2                 3.0   \n",
      "3                 0.0                 0.7             2.5                 3.3   \n",
      "4                 1.1                 1.5             1.6                 1.1   \n",
      "\n",
      "   work_related_hours  ...  stress_level  physical_activity_hours_per_week  \\\n",
      "0                 2.0  ...            10                               0.7   \n",
      "1                 3.1  ...             6                               4.3   \n",
      "2                 2.8  ...             5                               3.1   \n",
      "3                 1.6  ...             5                               0.0   \n",
      "4                 3.6  ...             7                               3.0   \n",
      "\n",
      "   location_type  mental_health_score  uses_wellness_apps  eats_healthy  \\\n",
      "0          Urban                   32                   1             1   \n",
      "1       Suburban                   75                   0             1   \n",
      "2       Suburban                   22                   0             0   \n",
      "3          Rural                   22                   0             1   \n",
      "4          Urban                   64                   1             1   \n",
      "\n",
      "   caffeine_intake_mg_per_day weekly_anxiety_score  weekly_depression_score  \\\n",
      "0                       125.2                   13                       15   \n",
      "1                       150.4                   19                       18   \n",
      "2                       187.9                    7                        3   \n",
      "3                        73.6                    7                        2   \n",
      "4                       217.5                    8                       10   \n",
      "\n",
      "   mindfulness_minutes_per_day  \n",
      "0                          4.0  \n",
      "1                          6.5  \n",
      "2                          6.9  \n",
      "3                          4.8  \n",
      "4                          0.0  \n",
      "\n",
      "[5 rows x 25 columns]\n",
      "user_id                             0\n",
      "age                                 0\n",
      "gender                              0\n",
      "daily_screen_time_hours             0\n",
      "phone_usage_hours                   0\n",
      "laptop_usage_hours                  0\n",
      "tablet_usage_hours                  0\n",
      "tv_usage_hours                      0\n",
      "social_media_hours                  0\n",
      "work_related_hours                  0\n",
      "entertainment_hours                 0\n",
      "gaming_hours                        0\n",
      "sleep_duration_hours                0\n",
      "sleep_quality                       0\n",
      "mood_rating                         0\n",
      "stress_level                        0\n",
      "physical_activity_hours_per_week    0\n",
      "location_type                       0\n",
      "mental_health_score                 0\n",
      "uses_wellness_apps                  0\n",
      "eats_healthy                        0\n",
      "caffeine_intake_mg_per_day          0\n",
      "weekly_anxiety_score                0\n",
      "weekly_depression_score             0\n",
      "mindfulness_minutes_per_day         0\n",
      "dtype: int64\n"
     ]
    }
   ],
   "source": [
    "import pandas as pd\n",
    "\n",
    "df = pd.read_csv(\"digital_diet_mental_health.csv\")\n",
    "\n",
    "print(\"Dataset shape:\", df.shape)\n",
    "print(df.dtypes)\n",
    "print(df.head())\n",
    "\n",
    "print(df.isnull().sum())"
   ]
  },
  {
   "cell_type": "markdown",
   "id": "25bd739c",
   "metadata": {},
   "source": [
    "Part 2: Preprocessing & Feature Selection"
   ]
  },
  {
   "cell_type": "code",
   "execution_count": 2,
   "id": "cc52a951",
   "metadata": {},
   "outputs": [],
   "source": [
    "# Part 2: Preprocessing\n",
    "from sklearn.preprocessing import StandardScaler, LabelEncoder\n",
    "from sklearn.impute import SimpleImputer\n",
    "\n",
    "# Select features\n",
    "classification_features = [\"daily_screen_time_hours\", \"sleep_duration_hours\", \"stress_level\", \"sleep_quality\"]\n",
    "clustering_features = [\"social_media_hours\", \"gaming_hours\", \"entertainment_hours\", \"work_related_hours\"]\n",
    "regression_features = [\"daily_screen_time_hours\", \"sleep_duration_hours\", \"stress_level\"]\n",
    "\n",
    "# Target columns\n",
    "classification_target = \"mental_health_score\"\n",
    "regression_target = \"mood_rating\"\n",
    "\n",
    "# Impute numeric columns (median)\n",
    "num_imputer = SimpleImputer(strategy=\"median\")\n",
    "df[classification_features] = num_imputer.fit_transform(df[classification_features])\n",
    "df[clustering_features] = num_imputer.fit_transform(df[clustering_features])\n",
    "df[regression_features] = num_imputer.fit_transform(df[regression_features])\n",
    "\n",
    "# Encode sleep_quality if necessary (assuming numeric scale, skip if already numeric)\n",
    "# If categorical (Poor/Okay/Good):\n",
    "# le_sleep = LabelEncoder()\n",
    "# df['sleep_quality'] = le_sleep.fit_transform(df['sleep_quality'])\n",
    "\n",
    "# Create risk level for classification\n",
    "def categorize_risk(score):\n",
    "    if score <= 33:\n",
    "        return \"Low\"\n",
    "    elif score <= 66:\n",
    "        return \"Medium\"\n",
    "    else:\n",
    "        return \"High\"\n",
    "\n",
    "df['risk_level'] = df[classification_target].apply(categorize_risk)\n",
    "\n",
    "# Scale numeric features\n",
    "scaler_clf = StandardScaler()\n",
    "X_clf = scaler_clf.fit_transform(df[classification_features])\n",
    "\n",
    "scaler_cluster = StandardScaler()\n",
    "X_cluster = scaler_cluster.fit_transform(df[clustering_features])\n",
    "\n",
    "scaler_reg = StandardScaler()\n",
    "X_reg = scaler_reg.fit_transform(df[regression_features])\n",
    "\n",
    "y_clf = df['risk_level']\n",
    "y_reg = df[regression_target]\n"
   ]
  },
  {
   "cell_type": "markdown",
   "id": "fceb4538",
   "metadata": {},
   "source": [
    "Part 3: Model Training"
   ]
  },
  {
   "cell_type": "markdown",
   "id": "ea734e30",
   "metadata": {},
   "source": [
    "3a: Classification"
   ]
  },
  {
   "cell_type": "code",
   "execution_count": 3,
   "id": "0220fc59",
   "metadata": {},
   "outputs": [
    {
     "name": "stdout",
     "output_type": "stream",
     "text": [
      "Classification Report:\n",
      "               precision    recall  f1-score   support\n",
      "\n",
      "        High       0.19      0.09      0.12        88\n",
      "         Low       0.16      0.08      0.10        93\n",
      "      Medium       0.54      0.77      0.64       219\n",
      "\n",
      "    accuracy                           0.46       400\n",
      "   macro avg       0.30      0.31      0.29       400\n",
      "weighted avg       0.37      0.46      0.40       400\n",
      "\n"
     ]
    }
   ],
   "source": [
    "from sklearn.model_selection import train_test_split\n",
    "from sklearn.ensemble import RandomForestClassifier\n",
    "from sklearn.metrics import classification_report\n",
    "\n",
    "# Train/test split\n",
    "X_train, X_test, y_train, y_test = train_test_split(X_clf, y_clf, test_size=0.2, stratify=y_clf, random_state=42)\n",
    "\n",
    "# Train Random Forest\n",
    "clf = RandomForestClassifier(n_estimators=200, random_state=42, class_weight='balanced')\n",
    "clf.fit(X_train, y_train)\n",
    "\n",
    "# Predict & evaluate\n",
    "y_pred = clf.predict(X_test)\n",
    "print(\"Classification Report:\\n\", classification_report(y_test, y_pred))\n"
   ]
  },
  {
   "cell_type": "markdown",
   "id": "c1908a8c",
   "metadata": {},
   "source": [
    "3b: Clustering"
   ]
  },
  {
   "cell_type": "code",
   "execution_count": 4,
   "id": "3fd4c75e",
   "metadata": {},
   "outputs": [
    {
     "data": {
      "image/png": "[encoded data removed]",
      "text/plain": [
       "<Figure size 640x480 with 1 Axes>"
      ]
     },
     "metadata": {},
     "output_type": "display_data"
    },
    {
     "name": "stdout",
     "output_type": "stream",
     "text": [
      "Silhouette Score: 0.17344277340466657\n"
     ]
    }
   ],
   "source": [
    "from sklearn.cluster import KMeans\n",
    "from sklearn.metrics import silhouette_score\n",
    "\n",
    "# Elbow method to choose k\n",
    "sse = []\n",
    "for k in range(2,7):\n",
    "    km = KMeans(n_clusters=k, random_state=42)\n",
    "    km.fit(X_cluster)\n",
    "    sse.append(km.inertia_)\n",
    "\n",
    "import matplotlib.pyplot as plt\n",
    "plt.plot(range(2,7), sse, marker='o')\n",
    "plt.xlabel(\"Number of clusters\")\n",
    "plt.ylabel(\"SSE\")\n",
    "plt.title(\"Elbow Method\")\n",
    "plt.show()\n",
    "\n",
    "# Train KMeans (assume k=4)\n",
    "kmeans = KMeans(n_clusters=4, random_state=42)\n",
    "cluster_labels = kmeans.fit_predict(X_cluster)\n",
    "df['cluster_id'] = cluster_labels\n",
    "\n",
    "# Silhouette Score\n",
    "score = silhouette_score(X_cluster, cluster_labels)\n",
    "print(\"Silhouette Score:\", score)\n"
   ]
  },
  {
   "cell_type": "markdown",
   "id": "4d8df95e",
   "metadata": {},
   "source": [
    "3c: Regression"
   ]
  },
  {
   "cell_type": "code",
   "execution_count": 5,
   "id": "cb033923",
   "metadata": {},
   "outputs": [
    {
     "name": "stdout",
     "output_type": "stream",
     "text": [
      "Regression MAE: 2.5673366071428574\n",
      "Regression RMSE: 3.068377309652083\n"
     ]
    }
   ],
   "source": [
    "from sklearn.ensemble import RandomForestRegressor\n",
    "from sklearn.metrics import mean_absolute_error, mean_squared_error\n",
    "import numpy as np\n",
    "\n",
    "# Train/test split\n",
    "X_train_reg, X_test_reg, y_train_reg, y_test_reg = train_test_split(X_reg, y_reg, test_size=0.2, random_state=42)\n",
    "\n",
    "# Train Random Forest Regressor\n",
    "reg = RandomForestRegressor(n_estimators=200, random_state=42)\n",
    "reg.fit(X_train_reg, y_train_reg)\n",
    "\n",
    "# Predict & evaluate\n",
    "y_pred_reg = reg.predict(X_test_reg)\n",
    "mae = mean_absolute_error(y_test_reg, y_pred_reg)\n",
    "rmse = np.sqrt(mean_squared_error(y_test_reg, y_pred_reg))\n",
    "print(\"Regression MAE:\", mae)\n",
    "print(\"Regression RMSE:\", rmse)\n"
   ]
  },
  {
   "cell_type": "markdown",
   "id": "a30b6aa1",
   "metadata": {},
   "source": [
    "1️⃣ Improve Classification (Risk Prediction)"
   ]
  },
  {
   "cell_type": "code",
   "execution_count": 6,
   "id": "0c9c8b77",
   "metadata": {},
   "outputs": [
    {
     "name": "stdout",
     "output_type": "stream",
     "text": [
      "              precision    recall  f1-score   support\n",
      "\n",
      "        High       0.62      0.44      0.52       230\n",
      "         Low       0.55      0.53      0.54       205\n",
      "      Medium       0.57      0.77      0.66       222\n",
      "\n",
      "    accuracy                           0.58       657\n",
      "   macro avg       0.58      0.58      0.57       657\n",
      "weighted avg       0.58      0.58      0.57       657\n",
      "\n"
     ]
    }
   ],
   "source": [
    "from imblearn.over_sampling import SMOTE\n",
    "from sklearn.ensemble import GradientBoostingClassifier\n",
    "from sklearn.model_selection import train_test_split\n",
    "from sklearn.metrics import classification_report\n",
    "\n",
    "# Updated features\n",
    "classification_features_updated = [\"daily_screen_time_hours\", \"sleep_duration_hours\", \n",
    "                                   \"stress_level\", \"sleep_quality\",\n",
    "                                   \"weekly_anxiety_score\", \"weekly_depression_score\", \n",
    "                                   \"physical_activity_hours_per_week\"]\n",
    "\n",
    "# Impute missing values\n",
    "df[classification_features_updated] = SimpleImputer(strategy=\"median\").fit_transform(df[classification_features_updated])\n",
    "\n",
    "# Prepare X and y\n",
    "X = df[classification_features_updated]\n",
    "y = df['risk_level']\n",
    "\n",
    "# Handle imbalance with SMOTE\n",
    "smote = SMOTE(random_state=42)\n",
    "X_res, y_res = smote.fit_resample(X, y)\n",
    "\n",
    "# Train/test split\n",
    "X_train, X_test, y_train, y_test = train_test_split(X_res, y_res, test_size=0.2, random_state=42)\n",
    "\n",
    "# Train Gradient Boosting\n",
    "clf = GradientBoostingClassifier(n_estimators=300, learning_rate=0.1, random_state=42)\n",
    "clf.fit(X_train, y_train)\n",
    "\n",
    "# Evaluate\n",
    "y_pred = clf.predict(X_test)\n",
    "print(classification_report(y_test, y_pred))\n"
   ]
  },
  {
   "cell_type": "markdown",
   "id": "7ce00ce3",
   "metadata": {},
   "source": [
    "2️⃣ Improve Clustering (Addiction Segments)"
   ]
  },
  {
   "cell_type": "code",
   "execution_count": 7,
   "id": "7dcf6ef5",
   "metadata": {},
   "outputs": [
    {
     "name": "stdout",
     "output_type": "stream",
     "text": [
      "Silhouette Score: 0.9303465152526452\n"
     ]
    }
   ],
   "source": [
    "from sklearn.preprocessing import StandardScaler\n",
    "from sklearn.cluster import KMeans\n",
    "from sklearn.metrics import silhouette_score\n",
    "\n",
    "# Add ratios\n",
    "df['social_ratio'] = df['social_media_hours'] / (df['daily_screen_time_hours']+0.1)\n",
    "df['gaming_ratio'] = df['gaming_hours'] / (df['daily_screen_time_hours']+0.1)\n",
    "\n",
    "clustering_features_updated = [\"social_ratio\", \"gaming_ratio\", \"entertainment_hours\", \"work_related_hours\"]\n",
    "\n",
    "# Scale\n",
    "X_cluster = StandardScaler().fit_transform(df[clustering_features_updated])\n",
    "\n",
    "# KMeans with k=3\n",
    "kmeans = KMeans(n_clusters=3, random_state=42)\n",
    "cluster_labels = kmeans.fit_predict(X_cluster)\n",
    "df['cluster_id'] = cluster_labels\n",
    "\n",
    "# Silhouette\n",
    "score = silhouette_score(X_cluster, cluster_labels)\n",
    "print(\"Silhouette Score:\", score)\n"
   ]
  },
  {
   "cell_type": "markdown",
   "id": "c05535bc",
   "metadata": {},
   "source": [
    "3️⃣ Improve Regression (Mood Prediction)"
   ]
  },
  {
   "cell_type": "code",
   "execution_count": 8,
   "id": "d8c33092",
   "metadata": {},
   "outputs": [
    {
     "name": "stdout",
     "output_type": "stream",
     "text": [
      "Regression MAE: 2.5933556075246624\n",
      "Regression RMSE: 3.0373185323598806\n"
     ]
    }
   ],
   "source": [
    "from sklearn.ensemble import GradientBoostingRegressor\n",
    "from sklearn.metrics import mean_absolute_error, mean_squared_error\n",
    "import numpy as np\n",
    "\n",
    "# Updated features\n",
    "regression_features_updated = [\"daily_screen_time_hours\", \"sleep_duration_hours\", \"stress_level\",\n",
    "                               \"caffeine_intake_mg_per_day\", \"physical_activity_hours_per_week\",\n",
    "                               \"mindfulness_minutes_per_day\"]\n",
    "\n",
    "# Impute missing\n",
    "df[regression_features_updated] = SimpleImputer(strategy=\"median\").fit_transform(df[regression_features_updated])\n",
    "\n",
    "X_reg = df[regression_features_updated]\n",
    "y_reg = df['mood_rating']\n",
    "\n",
    "# Train/test split\n",
    "X_train_reg, X_test_reg, y_train_reg, y_test_reg = train_test_split(X_reg, y_reg, test_size=0.2, random_state=42)\n",
    "\n",
    "# Train Gradient Boosting Regressor\n",
    "reg = GradientBoostingRegressor(n_estimators=300, learning_rate=0.1, random_state=42)\n",
    "reg.fit(X_train_reg, y_train_reg)\n",
    "\n",
    "# Predict & evaluate\n",
    "y_pred_reg = reg.predict(X_test_reg)\n",
    "mae = mean_absolute_error(y_test_reg, y_pred_reg)\n",
    "rmse = np.sqrt(mean_squared_error(y_test_reg, y_pred_reg))\n",
    "print(\"Regression MAE:\", mae)\n",
    "print(\"Regression RMSE:\", rmse)\n"
   ]
  },
  {
   "cell_type": "code",
   "execution_count": 9,
   "id": "e1c44f80",
   "metadata": {},
   "outputs": [
    {
     "data": {
      "text/plain": [
       "['scaler_reg.pkl']"
      ]
     },
     "execution_count": 9,
     "metadata": {},
     "output_type": "execute_result"
    }
   ],
   "source": [
    "import joblib\n",
    "\n",
    "# Save models\n",
    "joblib.dump(clf, \"risk_model.pkl\")\n",
    "joblib.dump(scaler_clf, \"scaler_clf.pkl\")\n",
    "\n",
    "joblib.dump(kmeans, \"cluster_model.pkl\")\n",
    "joblib.dump(scaler_cluster, \"scaler_cluster.pkl\")\n",
    "\n",
    "joblib.dump(reg, \"mood_model.pkl\")\n",
    "joblib.dump(scaler_reg, \"scaler_reg.pkl\")\n"
   ]
  },
  {
   "cell_type": "code",
   "execution_count": 15,
   "id": "332d5999",
   "metadata": {},
   "outputs": [
    {
     "name": "stdout",
     "output_type": "stream",
     "text": [
      "Successfully re-fitted and saved 'scaler_clf.pkl' with 7 features.\n"
     ]
    }
   ],
   "source": [
    "from sklearn.preprocessing import StandardScaler\n",
    "import joblib\n",
    "\n",
    "# Features used for the final classification model (risk_model.pkl)\n",
    "clf_features_updated = [\"daily_screen_time_hours\", \"sleep_duration_hours\", \"stress_level\",\n",
    "                        \"sleep_quality\", \"weekly_anxiety_score\", \"weekly_depression_score\",\n",
    "                        \"physical_activity_hours_per_week\"]\n",
    "\n",
    "# Fit the scaler on the updated features from the original DataFrame (df)\n",
    "scaler_clf = StandardScaler()\n",
    "# Note: You need the original 'df' DataFrame defined in Cell 1 and modified in Cell 6 to be available\n",
    "# Assuming df still holds all the data after initial preprocessing and imputation:\n",
    "# If df is not available, you would need to reload and preprocess the original data up to Cell 6.\n",
    "try:\n",
    "    # Ensure df is available and all columns are present/imputed\n",
    "    scaler_clf.fit(df[clf_features_updated])\n",
    "    joblib.dump(scaler_clf, \"scaler_clf.pkl\")\n",
    "    print(\"Successfully re-fitted and saved 'scaler_clf.pkl' with 7 features.\")\n",
    "except NameError:\n",
    "    print(\"Error: DataFrame 'df' is not defined. You must run all previous notebook cells (1 through 8) first.\")\n",
    "except KeyError as e:\n",
    "    print(f\"Error: Missing feature in df: {e}. Check imputation steps.\")\n"
   ]
  },
  {
   "cell_type": "code",
   "execution_count": 13,
   "id": "dc07502c",
   "metadata": {},
   "outputs": [
    {
     "data": {
      "text/plain": [
       "['scaler_cluster.pkl']"
      ]
     },
     "execution_count": 13,
     "metadata": {},
     "output_type": "execute_result"
    }
   ],
   "source": [
    "from sklearn.preprocessing import StandardScaler\n",
    "import joblib\n",
    "\n",
    "# Compute ratios\n",
    "df['social_ratio'] = df['social_media_hours'] / (df['daily_screen_time_hours'] + 0.1)\n",
    "df['gaming_ratio'] = df['gaming_hours'] / (df['daily_screen_time_hours'] + 0.1)\n",
    "\n",
    "cluster_features_updated = [\"social_ratio\", \"gaming_ratio\", \"entertainment_hours\", \"work_related_hours\"]\n",
    "\n",
    "scaler_cluster = StandardScaler()\n",
    "scaler_cluster.fit(df[cluster_features_updated])\n",
    "joblib.dump(scaler_cluster, \"scaler_cluster.pkl\")\n"
   ]
  },
  {
   "cell_type": "markdown",
   "id": "56525252",
   "metadata": {},
   "source": [
    "TEST"
   ]
  },
  {
   "cell_type": "code",
   "execution_count": 11,
   "id": "50d679e7",
   "metadata": {},
   "outputs": [
    {
     "name": "stdout",
     "output_type": "stream",
     "text": [
      "Scaler features: ['daily_screen_time_hours' 'sleep_duration_hours' 'stress_level'\n",
      " 'sleep_quality']\n",
      "Number of features scaler expects: 4\n",
      "['social_media_hours' 'gaming_hours' 'entertainment_hours'\n",
      " 'work_related_hours']\n",
      "['daily_screen_time_hours' 'sleep_duration_hours' 'stress_level']\n",
      "Number of input features expected by classifier: 7\n",
      "Number of input features expected by regressor: 6\n",
      "Missing features: set()\n",
      "Extra features: {'entertainment_hours', 'gaming_hours', 'work_related_hours', 'weekly_depression_score', 'weekly_anxiety_score', 'physical_activity_hours_per_week', 'social_media_hours'}\n"
     ]
    }
   ],
   "source": [
    "import joblib\n",
    "\n",
    "scaler_clf = joblib.load(\"scaler_clf.pkl\")\n",
    "print(\"Scaler features:\", scaler_clf.feature_names_in_)\n",
    "print(\"Number of features scaler expects:\", len(scaler_clf.feature_names_in_))\n",
    "\n",
    "scaler_cluster = joblib.load(\"scaler_cluster.pkl\")\n",
    "print(scaler_cluster.feature_names_in_)\n",
    "\n",
    "scaler_reg = joblib.load(\"scaler_reg.pkl\")\n",
    "print(scaler_reg.feature_names_in_)\n",
    "\n",
    "classification_model = joblib.load(\"risk_model.pkl\")\n",
    "print(\"Number of input features expected by classifier:\", classification_model.n_features_in_)\n",
    "\n",
    "regression_model = joblib.load(\"mood_model.pkl\")\n",
    "print(\"Number of input features expected by regressor:\", regression_model.n_features_in_)\n",
    "\n",
    "# Example for classifier scaler\n",
    "expected = set(scaler_clf.feature_names_in_)\n",
    "given = set(sample_user.columns)\n",
    "\n",
    "missing = expected - given\n",
    "extra = given - expected\n",
    "\n",
    "print(\"Missing features:\", missing)\n",
    "print(\"Extra features:\", extra)\n",
    "\n"
   ]
  }
 ],
 "metadata": {
  "kernelspec": {
   "display_name": "Python 3",
   "language": "python",
   "name": "python3"
  },
  "language_info": {
   "codemirror_mode": {
    "name": "ipython",
    "version": 3
   },
   "file_extension": ".py",
   "mimetype": "text/x-python",
   "name": "python",
   "nbconvert_exporter": "python",
   "pygments_lexer": "ipython3",
   "version": "3.12.1"
  }
 },
 "nbformat": 4,
 "nbformat_minor": 5
}
